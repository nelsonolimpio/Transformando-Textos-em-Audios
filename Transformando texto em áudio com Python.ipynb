{
 "cells": [
  {
   "cell_type": "code",
   "execution_count": 1,
   "id": "9315cfb3",
   "metadata": {},
   "outputs": [
    {
     "name": "stdout",
     "output_type": "stream",
     "text": [
      "Collecting gtts\n",
      "  Downloading gTTS-2.3.1-py3-none-any.whl (28 kB)\n",
      "Requirement already satisfied: requests<3,>=2.27 in c:\\users\\úsuario\\appdata\\local\\programs\\python\\python39\\lib\\site-packages (from gtts) (2.28.1)\n",
      "Collecting click<8.2,>=7.1\n",
      "  Downloading click-8.1.3-py3-none-any.whl (96 kB)\n",
      "     ---------------------------------------- 96.6/96.6 kB 1.1 MB/s eta 0:00:00\n",
      "Requirement already satisfied: colorama in c:\\users\\úsuario\\appdata\\local\\programs\\python\\python39\\lib\\site-packages (from click<8.2,>=7.1->gtts) (0.4.5)\n",
      "Requirement already satisfied: certifi>=2017.4.17 in c:\\users\\úsuario\\appdata\\local\\programs\\python\\python39\\lib\\site-packages (from requests<3,>=2.27->gtts) (2022.12.7)\n",
      "Requirement already satisfied: charset-normalizer<3,>=2 in c:\\users\\úsuario\\appdata\\local\\programs\\python\\python39\\lib\\site-packages (from requests<3,>=2.27->gtts) (2.1.1)\n",
      "Requirement already satisfied: idna<4,>=2.5 in c:\\users\\úsuario\\appdata\\local\\programs\\python\\python39\\lib\\site-packages (from requests<3,>=2.27->gtts) (3.4)\n",
      "Requirement already satisfied: urllib3<1.27,>=1.21.1 in c:\\users\\úsuario\\appdata\\local\\programs\\python\\python39\\lib\\site-packages (from requests<3,>=2.27->gtts) (1.26.13)\n",
      "Installing collected packages: click, gtts\n",
      "Successfully installed click-8.1.3 gtts-2.3.1\n",
      "Note: you may need to restart the kernel to use updated packages.\n"
     ]
    },
    {
     "name": "stderr",
     "output_type": "stream",
     "text": [
      "\n",
      "[notice] A new release of pip available: 22.3.1 -> 23.0.1\n",
      "[notice] To update, run: python.exe -m pip install --upgrade pip\n"
     ]
    }
   ],
   "source": [
    "pip install gtts"
   ]
  },
  {
   "cell_type": "code",
   "execution_count": 2,
   "id": "3a9b3e5e",
   "metadata": {},
   "outputs": [
    {
     "name": "stdout",
     "output_type": "stream",
     "text": [
      "Collecting playsound\n",
      "  Downloading playsound-1.3.0.tar.gz (7.7 kB)\n",
      "  Preparing metadata (setup.py): started\n",
      "  Preparing metadata (setup.py): finished with status 'done'\n",
      "Installing collected packages: playsound\n",
      "  Running setup.py install for playsound: started\n",
      "  Running setup.py install for playsound: finished with status 'done'\n",
      "Successfully installed playsound-1.3.0\n",
      "Note: you may need to restart the kernel to use updated packages.\n"
     ]
    },
    {
     "name": "stderr",
     "output_type": "stream",
     "text": [
      "  DEPRECATION: playsound is being installed using the legacy 'setup.py install' method, because it does not have a 'pyproject.toml' and the 'wheel' package is not installed. pip 23.1 will enforce this behaviour change. A possible replacement is to enable the '--use-pep517' option. Discussion can be found at https://github.com/pypa/pip/issues/8559\n",
      "\n",
      "[notice] A new release of pip available: 22.3.1 -> 23.0.1\n",
      "[notice] To update, run: python.exe -m pip install --upgrade pip\n"
     ]
    }
   ],
   "source": [
    "pip install playsound"
   ]
  },
  {
   "cell_type": "code",
   "execution_count": 14,
   "id": "b96af206",
   "metadata": {},
   "outputs": [],
   "source": [
    "from gtts import gTTS"
   ]
  },
  {
   "cell_type": "code",
   "execution_count": 15,
   "id": "dd9fca41",
   "metadata": {},
   "outputs": [],
   "source": [
    "from playsound import playsound"
   ]
  },
  {
   "cell_type": "code",
   "execution_count": 16,
   "id": "2efea615",
   "metadata": {},
   "outputs": [],
   "source": [
    "audio = 'NomeDoArquivoQueSeraSalvo.mp3'"
   ]
  },
  {
   "cell_type": "code",
   "execution_count": 17,
   "id": "e211f98b",
   "metadata": {},
   "outputs": [],
   "source": [
    "language = 'pt-br'"
   ]
  },
  {
   "cell_type": "code",
   "execution_count": 18,
   "id": "ed5d169d",
   "metadata": {},
   "outputs": [],
   "source": [
    "sp = gTTS(\n",
    "    text = ''' Digite o texto aqui''',\n",
    "    lang = language\n",
    ")"
   ]
  },
  {
   "cell_type": "code",
   "execution_count": 19,
   "id": "aa9ce78f",
   "metadata": {},
   "outputs": [],
   "source": [
    "sp.save(audio)"
   ]
  },
  {
   "cell_type": "code",
   "execution_count": 20,
   "id": "e5e96f54",
   "metadata": {},
   "outputs": [
    {
     "name": "stderr",
     "output_type": "stream",
     "text": [
      "\n",
      "    Error 263 for command:\n",
      "        close CNSP4342021.mp3\n",
      "    O dispositivo especificado não está aberto ou o MCI não o reconhece.\n",
      "Failed to close the file: CNSP4342021.mp3\n"
     ]
    }
   ],
   "source": [
    "playsound(audio)"
   ]
  },
  {
   "cell_type": "code",
   "execution_count": null,
   "id": "bb2b8718",
   "metadata": {},
   "outputs": [],
   "source": []
  }
 ],
 "metadata": {
  "kernelspec": {
   "display_name": "Python 3 (ipykernel)",
   "language": "python",
   "name": "python3"
  },
  "language_info": {
   "codemirror_mode": {
    "name": "ipython",
    "version": 3
   },
   "file_extension": ".py",
   "mimetype": "text/x-python",
   "name": "python",
   "nbconvert_exporter": "python",
   "pygments_lexer": "ipython3",
   "version": "3.9.7"
  }
 },
 "nbformat": 4,
 "nbformat_minor": 5
}
